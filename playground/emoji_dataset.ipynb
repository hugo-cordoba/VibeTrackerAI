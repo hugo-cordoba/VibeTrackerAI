{
 "cells": [
  {
   "cell_type": "code",
   "execution_count": 1,
   "metadata": {},
   "outputs": [],
   "source": [
    "# Emoji dataset\n",
    "\n",
    "# https://huggingface.co/datasets/arbml/emoji_sentiment_lexicon"
   ]
  },
  {
   "cell_type": "code",
   "execution_count": 2,
   "metadata": {},
   "outputs": [
    {
     "name": "stderr",
     "output_type": "stream",
     "text": [
      "c:\\Users\\hugoc\\anaconda3\\envs\\thefreeai\\Lib\\site-packages\\tqdm\\auto.py:21: TqdmWarning: IProgress not found. Please update jupyter and ipywidgets. See https://ipywidgets.readthedocs.io/en/stable/user_install.html\n",
      "  from .autonotebook import tqdm as notebook_tqdm\n"
     ]
    }
   ],
   "source": [
    "import pandas as pd\n",
    "from datasets import load_dataset"
   ]
  },
  {
   "cell_type": "code",
   "execution_count": 3,
   "metadata": {},
   "outputs": [
    {
     "name": "stdout",
     "output_type": "stream",
     "text": [
      "  Unnamed: 0             Emoji_ID Emoji                    Unicode_Name  \\\n",
      "0          1  b'\\xf0\\x9f\\x98\\x82'     😂         Face With Tears Of Joy    \n",
      "1          2  b'\\xf0\\x9f\\x92\\x94'     💔                   Broken Heart    \n",
      "2          3      b'\\xe2\\x9d\\xa4'     ❤                      Red Heart    \n",
      "3          4  b'\\xf0\\x9f\\x98\\xad'     😭             Loudly Crying Face    \n",
      "4          5  b'\\xf0\\x9f\\x98\\x8d'     😍   Smiling Face With Heart-Eyes    \n",
      "\n",
      "           Arabic_Name              Class Total_Occurrence  \\\n",
      "0      وجه بدموع الفرح  Facial Expression            25908   \n",
      "1            قلب مجروح              Heart            18564   \n",
      "2             قلب احمر              Heart            15876   \n",
      "3   وجه يبكي بصوت عالي  Facial Expression            12318   \n",
      "4  وجه مبتسم بعيون قلب  Facial Expression             6815   \n",
      "\n",
      "  Negativity_Occurrence_N(Negative) Neutrality_Occurrence_N(Neutral)  \\\n",
      "0                              8106                             2638   \n",
      "1                             17781                              342   \n",
      "2                              2701                             1573   \n",
      "3                              9525                             1617   \n",
      "4                               198                              493   \n",
      "\n",
      "  Positivity_Occurrence_N(Positive) Negativite_Probability_P(Negative)  \\\n",
      "0                             15164                 0.3128763316350162   \n",
      "1                               441                 0.9578215901745314   \n",
      "2                             11602                 0.1701310153691106   \n",
      "3                              1176                 0.7732586458840721   \n",
      "4                              6124                0.02905355832721937   \n",
      "\n",
      "  Neutral_Probability_P(Neutral) Positive_Probability_P(Positive)  \\\n",
      "0             0.1018218310946426               0.5853018372703412   \n",
      "1            0.01842275371687136             0.023755656108597284   \n",
      "2             0.0990803728898967               0.7307886117409927   \n",
      "3            0.13127131027764247              0.09547004383828543   \n",
      "4            0.07234042553191489               0.8986060161408658   \n",
      "\n",
      "     Sentiment_Score_S  label  \n",
      "0    0.272425505635325      2  \n",
      "1   -0.934065934065934      0  \n",
      "2   0.5606575963718822      2  \n",
      "3  -0.6777886020457867      0  \n",
      "4   0.8695524578136464      2  \n"
     ]
    }
   ],
   "source": [
    "\n",
    "dataset = load_dataset(\"arbml/emoji_sentiment_lexicon\")\n",
    "\n",
    "df = pd.DataFrame(dataset['train'])\n",
    "\n",
    "print(df.head())"
   ]
  },
  {
   "cell_type": "code",
   "execution_count": 4,
   "metadata": {},
   "outputs": [
    {
     "name": "stdout",
     "output_type": "stream",
     "text": [
      "Index(['Unnamed: 0', 'Emoji_ID', 'Emoji', 'Unicode_Name', 'Arabic_Name',\n",
      "       'Class', 'Total_Occurrence', 'Negativity_Occurrence_N(Negative)',\n",
      "       'Neutrality_Occurrence_N(Neutral)', 'Positivity_Occurrence_N(Positive)',\n",
      "       'Negativite_Probability_P(Negative)', 'Neutral_Probability_P(Neutral)',\n",
      "       'Positive_Probability_P(Positive)', 'Sentiment_Score_S', 'label'],\n",
      "      dtype='object')\n"
     ]
    }
   ],
   "source": [
    "print(df.columns)"
   ]
  },
  {
   "cell_type": "code",
   "execution_count": 5,
   "metadata": {},
   "outputs": [
    {
     "name": "stdout",
     "output_type": "stream",
     "text": [
      "                     Unicode_Name  label\n",
      "0         Face With Tears Of Joy       2\n",
      "1                   Broken Heart       0\n",
      "2                      Red Heart       2\n",
      "3             Loudly Crying Face       0\n",
      "4   Smiling Face With Heart-Eyes       2\n"
     ]
    }
   ],
   "source": [
    "df = df[['Unicode_Name', 'label']]\n",
    "\n",
    "print(df.head())"
   ]
  },
  {
   "cell_type": "code",
   "execution_count": 6,
   "metadata": {},
   "outputs": [],
   "source": [
    "df_clean = df\n",
    "\n",
    "# Renombrar las columnas\n",
    "df_clean.rename(columns={'Unicode_Name': 'clean_text', 'label': 'category'}, inplace=True)\n",
    "\n",
    "# Reasignar los valores en la columna 'category'\n",
    "df_clean['category'] = df_clean['category'].map({0: -1, 1: 0, 2: 1})\n",
    "\n",
    "df_clean['clean_text'] = df_clean['clean_text'].str.strip().str.lower().str.replace(' ', '_')"
   ]
  },
  {
   "cell_type": "code",
   "execution_count": 7,
   "metadata": {},
   "outputs": [
    {
     "name": "stdout",
     "output_type": "stream",
     "text": [
      "DataFrame after renaming and reassigning values:\n",
      "                      clean_text  category\n",
      "0         face_with_tears_of_joy         1\n",
      "1                   broken_heart        -1\n",
      "2                      red_heart         1\n",
      "3             loudly_crying_face        -1\n",
      "4   smiling_face_with_heart-eyes         1\n",
      "..                           ...       ...\n",
      "62                  flushed_face        -1\n",
      "63                 confused_face        -1\n",
      "64            see-no-evil_monkey        -1\n",
      "65                          herb         1\n",
      "66              person_shrugging         0\n",
      "\n",
      "[67 rows x 2 columns]\n"
     ]
    }
   ],
   "source": [
    "# Mostrar las primeras filas del DataFrame modificado\n",
    "print(\"DataFrame after renaming and reassigning values:\")\n",
    "print(df_clean.head(67))"
   ]
  },
  {
   "cell_type": "code",
   "execution_count": 8,
   "metadata": {},
   "outputs": [
    {
     "name": "stdout",
     "output_type": "stream",
     "text": [
      "DataFrame exported to 'emoji_sentiment_dataset.csv'\n"
     ]
    }
   ],
   "source": [
    "df_clean.to_csv('emoji_sentiment_dataset.csv', index=False)\n",
    "\n",
    "print(\"DataFrame exported to 'emoji_sentiment_dataset.csv'\")"
   ]
  },
  {
   "cell_type": "markdown",
   "metadata": {},
   "source": [
    "## Fusion de los datasets"
   ]
  },
  {
   "cell_type": "code",
   "execution_count": 10,
   "metadata": {},
   "outputs": [
    {
     "name": "stdout",
     "output_type": "stream",
     "text": [
      "Combined DataFrame:\n",
      "                                          clean_text  category\n",
      "0  when modi promised “minimum government maximum...      -1.0\n",
      "1  talk all the nonsense and continue all the dra...       0.0\n",
      "2  what did just say vote for modi  welcome bjp t...       1.0\n",
      "3  asking his supporters prefix chowkidar their n...       1.0\n",
      "4  answer who among these the most powerful world...       1.0\n",
      "Combined DataFrame exported to 'combined_emoji_sentiment_dataset.csv'\n"
     ]
    }
   ],
   "source": [
    "emoji_dataset = pd.read_csv('../datasets/emoji_sentiment_dataset.csv')\n",
    "text_dataset = pd.read_csv('../datasets/Twitter_Data.csv')\n",
    "\n",
    "\n",
    "# Concatenar los DataFrames verticalmente\n",
    "df_combined = pd.concat([text_dataset, emoji_dataset], ignore_index=True)\n",
    "\n",
    "# Mostrar las primeras filas del DataFrame combinado\n",
    "print(\"Combined DataFrame:\")\n",
    "print(df_combined.head())\n",
    "\n",
    "# Exportar el DataFrame combinado a un archivo CSV\n",
    "df_combined.to_csv('combined_text_emoji_sentiment_dataset.csv', index=False)\n",
    "\n",
    "print(\"Combined DataFrame exported to 'combined_emoji_sentiment_dataset.csv'\")\n"
   ]
  }
 ],
 "metadata": {
  "kernelspec": {
   "display_name": "thefreeai",
   "language": "python",
   "name": "python3"
  },
  "language_info": {
   "codemirror_mode": {
    "name": "ipython",
    "version": 3
   },
   "file_extension": ".py",
   "mimetype": "text/x-python",
   "name": "python",
   "nbconvert_exporter": "python",
   "pygments_lexer": "ipython3",
   "version": "3.11.8"
  }
 },
 "nbformat": 4,
 "nbformat_minor": 2
}
